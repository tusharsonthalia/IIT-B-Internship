{
 "cells": [
  {
   "cell_type": "markdown",
   "metadata": {},
   "source": [
    "# Objective \n",
    "\n",
    "This notebook collects the data about the global number of cases and then merges it with the existising dataset, Global COVID-19 cases. "
   ]
  },
  {
   "cell_type": "code",
   "execution_count": 62,
   "metadata": {},
   "outputs": [],
   "source": [
    "import numpy as np\n",
    "import pandas as pd"
   ]
  },
  {
   "cell_type": "code",
   "execution_count": 63,
   "metadata": {},
   "outputs": [],
   "source": [
    "d = '31'\n",
    "m = '05'\n",
    "url = f'https://raw.githubusercontent.com/CSSEGISandData/COVID-19/master/csse_covid_19_data/csse_covid_19_daily_reports/{m}-{d}-2020.csv'"
   ]
  },
  {
   "cell_type": "code",
   "execution_count": 64,
   "metadata": {},
   "outputs": [],
   "source": [
    "df = pd.read_csv(url, error_bad_lines=False)"
   ]
  },
  {
   "cell_type": "code",
   "execution_count": 65,
   "metadata": {},
   "outputs": [
    {
     "name": "stdout",
     "output_type": "stream",
     "text": [
      "<class 'pandas.core.frame.DataFrame'>\n",
      "RangeIndex: 3526 entries, 0 to 3525\n",
      "Data columns (total 14 columns):\n",
      "FIPS                   3018 non-null float64\n",
      "Admin2                 3022 non-null object\n",
      "Province_State         3351 non-null object\n",
      "Country_Region         3526 non-null object\n",
      "Last_Update            3526 non-null object\n",
      "Lat                    3455 non-null float64\n",
      "Long_                  3455 non-null float64\n",
      "Confirmed              3526 non-null int64\n",
      "Deaths                 3526 non-null int64\n",
      "Recovered              3526 non-null int64\n",
      "Active                 3526 non-null int64\n",
      "Combined_Key           3526 non-null object\n",
      "Incidence_Rate         3455 non-null float64\n",
      "Case-Fatality_Ratio    3468 non-null float64\n",
      "dtypes: float64(5), int64(4), object(5)\n",
      "memory usage: 385.8+ KB\n"
     ]
    }
   ],
   "source": [
    "df.info()"
   ]
  },
  {
   "cell_type": "code",
   "execution_count": 66,
   "metadata": {},
   "outputs": [
    {
     "data": {
      "text/plain": [
       "Country_Region\n",
       "Pakistan                              69496\n",
       "Panama                                13463\n",
       "Papua New Guinea                          8\n",
       "Paraguay                                986\n",
       "Peru                                 164476\n",
       "Philippines                           18086\n",
       "Poland                                23786\n",
       "Portugal                              32500\n",
       "Qatar                                 56910\n",
       "Romania                               19257\n",
       "Russia                               405843\n",
       "Rwanda                                  370\n",
       "Saint Kitts and Nevis                    15\n",
       "Saint Lucia                              18\n",
       "Saint Vincent and the Grenadines         26\n",
       "San Marino                              671\n",
       "Sao Tome and Principe                   483\n",
       "Saudi Arabia                          85261\n",
       "Senegal                                3645\n",
       "Serbia                                11412\n",
       "Seychelles                               11\n",
       "Sierra Leone                            861\n",
       "Singapore                             34884\n",
       "Slovakia                               1521\n",
       "Slovenia                               1473\n",
       "Somalia                                1976\n",
       "South Africa                          32683\n",
       "South Sudan                             994\n",
       "Spain                                239479\n",
       "Sri Lanka                              1633\n",
       "Sudan                                  5026\n",
       "Suriname                                 23\n",
       "Sweden                                37542\n",
       "Switzerland                           30862\n",
       "Syria                                   122\n",
       "Taiwan*                                 442\n",
       "Tajikistan                             3930\n",
       "Tanzania                                509\n",
       "Thailand                               3081\n",
       "Timor-Leste                              24\n",
       "Togo                                    442\n",
       "Trinidad and Tobago                     117\n",
       "Tunisia                                1077\n",
       "Turkey                               163942\n",
       "US                                  1790172\n",
       "Uganda                                  417\n",
       "Ukraine                               23672\n",
       "United Arab Emirates                  34557\n",
       "United Kingdom                       276156\n",
       "Uruguay                                 823\n",
       "Uzbekistan                             3623\n",
       "Venezuela                              1510\n",
       "Vietnam                                 328\n",
       "West Bank and Gaza                      448\n",
       "Western Sahara                            9\n",
       "Yemen                                   323\n",
       "Zambia                                 1057\n",
       "Zimbabwe                                178\n",
       "Name: Confirmed, dtype: int64"
      ]
     },
     "execution_count": 66,
     "metadata": {},
     "output_type": "execute_result"
    }
   ],
   "source": [
    "df.groupby('Country_Region')['Confirmed'].sum()[130:]"
   ]
  },
  {
   "cell_type": "code",
   "execution_count": 67,
   "metadata": {},
   "outputs": [],
   "source": [
    "dates = np.full(len(df), f'{int(m)}/{int(d)}/20')"
   ]
  },
  {
   "cell_type": "code",
   "execution_count": 68,
   "metadata": {},
   "outputs": [],
   "source": [
    "df2 = df.drop(['FIPS', 'Last_Update', 'Admin2', 'Combined_Key', 'Recovered', 'Active', 'Incidence_Rate', 'Case-Fatality_Ratio'], axis = 1)\n",
    "df2.rename(columns = {'Country_Region': 'Country/Region', 'Long_': 'Long', 'Province_State': 'Province/State'}, inplace = True)"
   ]
  },
  {
   "cell_type": "code",
   "execution_count": 69,
   "metadata": {},
   "outputs": [
    {
     "data": {
      "text/html": [
       "<div>\n",
       "<style scoped>\n",
       "    .dataframe tbody tr th:only-of-type {\n",
       "        vertical-align: middle;\n",
       "    }\n",
       "\n",
       "    .dataframe tbody tr th {\n",
       "        vertical-align: top;\n",
       "    }\n",
       "\n",
       "    .dataframe thead th {\n",
       "        text-align: right;\n",
       "    }\n",
       "</style>\n",
       "<table border=\"1\" class=\"dataframe\">\n",
       "  <thead>\n",
       "    <tr style=\"text-align: right;\">\n",
       "      <th></th>\n",
       "      <th>Province/State</th>\n",
       "      <th>Country/Region</th>\n",
       "      <th>Lat</th>\n",
       "      <th>Long</th>\n",
       "      <th>Date</th>\n",
       "      <th>Confirmed</th>\n",
       "      <th>Deaths</th>\n",
       "    </tr>\n",
       "  </thead>\n",
       "  <tbody>\n",
       "    <tr>\n",
       "      <th>0</th>\n",
       "      <td>South Carolina</td>\n",
       "      <td>US</td>\n",
       "      <td>34.223334</td>\n",
       "      <td>-82.461707</td>\n",
       "      <td>5/31/20</td>\n",
       "      <td>42</td>\n",
       "      <td>0</td>\n",
       "    </tr>\n",
       "    <tr>\n",
       "      <th>1</th>\n",
       "      <td>Louisiana</td>\n",
       "      <td>US</td>\n",
       "      <td>30.295065</td>\n",
       "      <td>-92.414197</td>\n",
       "      <td>5/31/20</td>\n",
       "      <td>418</td>\n",
       "      <td>23</td>\n",
       "    </tr>\n",
       "    <tr>\n",
       "      <th>2</th>\n",
       "      <td>Virginia</td>\n",
       "      <td>US</td>\n",
       "      <td>37.767072</td>\n",
       "      <td>-75.632346</td>\n",
       "      <td>5/31/20</td>\n",
       "      <td>909</td>\n",
       "      <td>12</td>\n",
       "    </tr>\n",
       "    <tr>\n",
       "      <th>3</th>\n",
       "      <td>Idaho</td>\n",
       "      <td>US</td>\n",
       "      <td>43.452658</td>\n",
       "      <td>-116.241552</td>\n",
       "      <td>5/31/20</td>\n",
       "      <td>812</td>\n",
       "      <td>22</td>\n",
       "    </tr>\n",
       "    <tr>\n",
       "      <th>4</th>\n",
       "      <td>Iowa</td>\n",
       "      <td>US</td>\n",
       "      <td>41.330756</td>\n",
       "      <td>-94.471059</td>\n",
       "      <td>5/31/20</td>\n",
       "      <td>9</td>\n",
       "      <td>0</td>\n",
       "    </tr>\n",
       "    <tr>\n",
       "      <th>...</th>\n",
       "      <td>...</td>\n",
       "      <td>...</td>\n",
       "      <td>...</td>\n",
       "      <td>...</td>\n",
       "      <td>...</td>\n",
       "      <td>...</td>\n",
       "      <td>...</td>\n",
       "    </tr>\n",
       "    <tr>\n",
       "      <th>3521</th>\n",
       "      <td>NaN</td>\n",
       "      <td>West Bank and Gaza</td>\n",
       "      <td>31.952200</td>\n",
       "      <td>35.233200</td>\n",
       "      <td>5/31/20</td>\n",
       "      <td>448</td>\n",
       "      <td>3</td>\n",
       "    </tr>\n",
       "    <tr>\n",
       "      <th>3522</th>\n",
       "      <td>NaN</td>\n",
       "      <td>Western Sahara</td>\n",
       "      <td>24.215500</td>\n",
       "      <td>-12.885800</td>\n",
       "      <td>5/31/20</td>\n",
       "      <td>9</td>\n",
       "      <td>1</td>\n",
       "    </tr>\n",
       "    <tr>\n",
       "      <th>3523</th>\n",
       "      <td>NaN</td>\n",
       "      <td>Yemen</td>\n",
       "      <td>15.552727</td>\n",
       "      <td>48.516388</td>\n",
       "      <td>5/31/20</td>\n",
       "      <td>323</td>\n",
       "      <td>80</td>\n",
       "    </tr>\n",
       "    <tr>\n",
       "      <th>3524</th>\n",
       "      <td>NaN</td>\n",
       "      <td>Zambia</td>\n",
       "      <td>-13.133897</td>\n",
       "      <td>27.849332</td>\n",
       "      <td>5/31/20</td>\n",
       "      <td>1057</td>\n",
       "      <td>7</td>\n",
       "    </tr>\n",
       "    <tr>\n",
       "      <th>3525</th>\n",
       "      <td>NaN</td>\n",
       "      <td>Zimbabwe</td>\n",
       "      <td>-19.015438</td>\n",
       "      <td>29.154857</td>\n",
       "      <td>5/31/20</td>\n",
       "      <td>178</td>\n",
       "      <td>4</td>\n",
       "    </tr>\n",
       "  </tbody>\n",
       "</table>\n",
       "<p>3526 rows × 7 columns</p>\n",
       "</div>"
      ],
      "text/plain": [
       "      Province/State      Country/Region        Lat        Long     Date  \\\n",
       "0     South Carolina                  US  34.223334  -82.461707  5/31/20   \n",
       "1          Louisiana                  US  30.295065  -92.414197  5/31/20   \n",
       "2           Virginia                  US  37.767072  -75.632346  5/31/20   \n",
       "3              Idaho                  US  43.452658 -116.241552  5/31/20   \n",
       "4               Iowa                  US  41.330756  -94.471059  5/31/20   \n",
       "...              ...                 ...        ...         ...      ...   \n",
       "3521             NaN  West Bank and Gaza  31.952200   35.233200  5/31/20   \n",
       "3522             NaN      Western Sahara  24.215500  -12.885800  5/31/20   \n",
       "3523             NaN               Yemen  15.552727   48.516388  5/31/20   \n",
       "3524             NaN              Zambia -13.133897   27.849332  5/31/20   \n",
       "3525             NaN            Zimbabwe -19.015438   29.154857  5/31/20   \n",
       "\n",
       "      Confirmed  Deaths  \n",
       "0            42       0  \n",
       "1           418      23  \n",
       "2           909      12  \n",
       "3           812      22  \n",
       "4             9       0  \n",
       "...         ...     ...  \n",
       "3521        448       3  \n",
       "3522          9       1  \n",
       "3523        323      80  \n",
       "3524       1057       7  \n",
       "3525        178       4  \n",
       "\n",
       "[3526 rows x 7 columns]"
      ]
     },
     "execution_count": 69,
     "metadata": {},
     "output_type": "execute_result"
    }
   ],
   "source": [
    "df2.insert(4, 'Date', dates)\n",
    "df2"
   ]
  },
  {
   "cell_type": "code",
   "execution_count": 70,
   "metadata": {},
   "outputs": [],
   "source": [
    "df2.replace({'Korea, South': 'South Korea'}, inplace = True)"
   ]
  },
  {
   "cell_type": "code",
   "execution_count": 71,
   "metadata": {},
   "outputs": [],
   "source": [
    "df2.to_csv('D:/BDS Docs/Year 1/Internship/Covid Data/Global COVID-19 Cases.csv', mode = 'a', header = False, index = False)"
   ]
  }
 ],
 "metadata": {
  "kernelspec": {
   "display_name": "Python 3",
   "language": "python",
   "name": "python3"
  },
  "language_info": {
   "codemirror_mode": {
    "name": "ipython",
    "version": 3
   },
   "file_extension": ".py",
   "mimetype": "text/x-python",
   "name": "python",
   "nbconvert_exporter": "python",
   "pygments_lexer": "ipython3",
   "version": "3.8.1"
  }
 },
 "nbformat": 4,
 "nbformat_minor": 4
}
