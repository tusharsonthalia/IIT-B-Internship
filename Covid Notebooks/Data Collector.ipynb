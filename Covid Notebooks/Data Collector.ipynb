{
 "cells": [
  {
   "cell_type": "markdown",
   "metadata": {},
   "source": [
    "# Objective\n",
    "\n",
    "This notebook accesses the links of the different datasets in the covid19india.org website and then stores it on the device, so that it can be accessed by different notebooks for different tasks"
   ]
  },
  {
   "cell_type": "markdown",
   "metadata": {},
   "source": [
    "# Importing the packages"
   ]
  },
  {
   "cell_type": "code",
   "execution_count": 1,
   "metadata": {},
   "outputs": [],
   "source": [
    "import pandas as pd \n",
    "import numpy as np"
   ]
  },
  {
   "cell_type": "markdown",
   "metadata": {},
   "source": [
    "# Importing datasets"
   ]
  },
  {
   "cell_type": "code",
   "execution_count": 2,
   "metadata": {},
   "outputs": [],
   "source": [
    "raw_data1 = pd.read_csv('https://api.covid19india.org/csv/latest/raw_data1.csv')\n",
    "raw_data2 = pd.read_csv('https://api.covid19india.org/csv/latest/raw_data2.csv')\n",
    "raw_data3 = pd.read_csv('https://api.covid19india.org/csv/latest/raw_data3.csv')\n",
    "raw_data4 = pd.read_csv('https://api.covid19india.org/csv/latest/raw_data4.csv')\n",
    "raw_data5 = pd.read_csv('https://api.covid19india.org/csv/latest/raw_data5.csv')"
   ]
  },
  {
   "cell_type": "code",
   "execution_count": 3,
   "metadata": {},
   "outputs": [],
   "source": [
    "state_wise = pd.read_csv('https://api.covid19india.org/csv/latest/state_wise.csv')\n",
    "case_time_series = pd.read_csv('https://api.covid19india.org/csv/latest/case_time_series.csv')\n",
    "district_wise = pd.read_csv('https://api.covid19india.org/csv/latest/district_wise.csv')\n",
    "state_wise_daily = pd.read_csv('https://api.covid19india.org/csv/latest/state_wise_daily.csv')\n",
    "statewise_tested_numbers_data = pd.read_csv('https://api.covid19india.org/csv/latest/statewise_tested_numbers_data.csv')\n",
    "tested_numbers_icmr_data = pd.read_csv('https://api.covid19india.org/csv/latest/tested_numbers_icmr_data.csv')"
   ]
  },
  {
   "cell_type": "markdown",
   "metadata": {},
   "source": [
    "# Exporting datasets"
   ]
  },
  {
   "cell_type": "code",
   "execution_count": 4,
   "metadata": {},
   "outputs": [],
   "source": [
    "raw_data1.to_csv('D:/BDS DOCS/Year 1/Internship/Covid Data/raw_data1.csv', header=True, index=False, mode='w')\n",
    "raw_data2.to_csv('D:/BDS DOCS/Year 1/Internship/Covid Data/raw_data2.csv', header=True, index=False, mode='w')\n",
    "raw_data3.to_csv('D:/BDS DOCS/Year 1/Internship/Covid Data/raw_data3.csv', header=True, index=False, mode='w')\n",
    "raw_data4.to_csv('D:/BDS DOCS/Year 1/Internship/Covid Data/raw_data4.csv', header=True, index=False, mode='w')\n",
    "raw_data5.to_csv('D:/BDS DOCS/Year 1/Internship/Covid Data/raw_data5.csv', header=True, index=False, mode='w')"
   ]
  },
  {
   "cell_type": "code",
   "execution_count": 5,
   "metadata": {},
   "outputs": [],
   "source": [
    "state_wise.to_csv('D:/BDS DOCS/Year 1/Internship/Covid Data/state_wise.csv', header=True, index=False, mode='w')\n",
    "case_time_series.to_csv('D:/BDS DOCS/Year 1/Internship/Covid Data/case_time_series.csv', header=True, index=False, mode='w')\n",
    "district_wise.to_csv('D:/BDS DOCS/Year 1/Internship/Covid Data/district_wise.csv', header=True, index=False, mode='w')\n",
    "state_wise_daily.to_csv('D:/BDS DOCS/Year 1/Internship/Covid Data/state_wise_daily.csv', header=True, index=False, mode='w')\n",
    "statewise_tested_numbers_data.to_csv('D:/BDS DOCS/Year 1/Internship/Covid Data/statewise_tested_numbers_data.csv', header=True, index=False, mode='w')\n",
    "tested_numbers_icmr_data.to_csv('D:/BDS DOCS/Year 1/Internship/Covid Data/tested_numbers_icmr_data.csv', header=True, index=False, mode='w')"
   ]
  }
 ],
 "metadata": {
  "kernelspec": {
   "display_name": "Python 3",
   "language": "python",
   "name": "python3"
  },
  "language_info": {
   "codemirror_mode": {
    "name": "ipython",
    "version": 3
   },
   "file_extension": ".py",
   "mimetype": "text/x-python",
   "name": "python",
   "nbconvert_exporter": "python",
   "pygments_lexer": "ipython3",
   "version": "3.8.1"
  }
 },
 "nbformat": 4,
 "nbformat_minor": 4
}
