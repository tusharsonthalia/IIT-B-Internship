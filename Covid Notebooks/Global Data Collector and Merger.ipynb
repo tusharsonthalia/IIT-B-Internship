{
 "cells": [
  {
   "cell_type": "markdown",
   "metadata": {},
   "source": [
    "# Objective \n",
    "\n",
    "This notebook collects the data about the global number of cases and then merges it with the existising dataset, Global COVID-19 cases. "
   ]
  },
  {
   "cell_type": "code",
   "execution_count": 38,
   "metadata": {},
   "outputs": [],
   "source": [
    "import numpy as np\n",
    "import pandas as pd"
   ]
  },
  {
   "cell_type": "code",
   "execution_count": 39,
   "metadata": {},
   "outputs": [],
   "source": [
    "url = 'https://raw.githubusercontent.com/CSSEGISandData/COVID-19/master/csse_covid_19_data/csse_covid_19_daily_reports/04-01-2020.csv'"
   ]
  },
  {
   "cell_type": "code",
   "execution_count": 40,
   "metadata": {},
   "outputs": [],
   "source": [
    "df = pd.read_csv(url, error_bad_lines=False)"
   ]
  },
  {
   "cell_type": "code",
   "execution_count": 41,
   "metadata": {},
   "outputs": [
    {
     "name": "stdout",
     "output_type": "stream",
     "text": [
      "<class 'pandas.core.frame.DataFrame'>\n",
      "RangeIndex: 2483 entries, 0 to 2482\n",
      "Data columns (total 12 columns):\n",
      " #   Column          Non-Null Count  Dtype  \n",
      "---  ------          --------------  -----  \n",
      " 0   FIPS            2171 non-null   float64\n",
      " 1   Admin2          2221 non-null   object \n",
      " 2   Province_State  2307 non-null   object \n",
      " 3   Country_Region  2483 non-null   object \n",
      " 4   Last_Update     2483 non-null   object \n",
      " 5   Lat             2482 non-null   float64\n",
      " 6   Long_           2482 non-null   float64\n",
      " 7   Confirmed       2483 non-null   int64  \n",
      " 8   Deaths          2483 non-null   int64  \n",
      " 9   Recovered       2483 non-null   int64  \n",
      " 10  Active          2483 non-null   int64  \n",
      " 11  Combined_Key    2483 non-null   object \n",
      "dtypes: float64(3), int64(4), object(5)\n",
      "memory usage: 232.9+ KB\n"
     ]
    }
   ],
   "source": [
    "df.info()"
   ]
  },
  {
   "cell_type": "code",
   "execution_count": 42,
   "metadata": {},
   "outputs": [
    {
     "data": {
      "text/plain": [
       "Country_Region\n",
       "Paraguay                                69\n",
       "Peru                                  1323\n",
       "Philippines                           2311\n",
       "Poland                                2554\n",
       "Portugal                              8251\n",
       "Qatar                                  835\n",
       "Romania                               2460\n",
       "Russia                                2777\n",
       "Rwanda                                  82\n",
       "Saint Kitts and Nevis                    8\n",
       "Saint Lucia                             13\n",
       "Saint Vincent and the Grenadines         1\n",
       "San Marino                             236\n",
       "Saudi Arabia                          1720\n",
       "Senegal                                190\n",
       "Serbia                                1060\n",
       "Seychelles                              10\n",
       "Sierra Leone                             2\n",
       "Singapore                             1000\n",
       "Slovakia                               400\n",
       "Slovenia                               841\n",
       "Somalia                                  5\n",
       "South Africa                          1380\n",
       "Spain                               104118\n",
       "Sri Lanka                              146\n",
       "Sudan                                    7\n",
       "Suriname                                10\n",
       "Sweden                                4947\n",
       "Switzerland                          17768\n",
       "Syria                                   10\n",
       "Taiwan*                                329\n",
       "Tanzania                                20\n",
       "Thailand                              1771\n",
       "Timor-Leste                              1\n",
       "Togo                                    36\n",
       "Trinidad and Tobago                     90\n",
       "Tunisia                                423\n",
       "Turkey                               15679\n",
       "US                                  213372\n",
       "Uganda                                  44\n",
       "Ukraine                                794\n",
       "United Arab Emirates                   814\n",
       "United Kingdom                       29865\n",
       "Uruguay                                338\n",
       "Uzbekistan                             181\n",
       "Venezuela                              143\n",
       "Vietnam                                218\n",
       "West Bank and Gaza                     134\n",
       "Zambia                                  36\n",
       "Zimbabwe                                 8\n",
       "Name: Confirmed, dtype: int64"
      ]
     },
     "execution_count": 42,
     "metadata": {},
     "output_type": "execute_result"
    }
   ],
   "source": [
    "df.groupby('Country_Region')['Confirmed'].sum()[130:]"
   ]
  },
  {
   "cell_type": "code",
   "execution_count": 43,
   "metadata": {},
   "outputs": [],
   "source": [
    "dates = np.full(len(df), '4/1/20')"
   ]
  },
  {
   "cell_type": "code",
   "execution_count": 44,
   "metadata": {},
   "outputs": [],
   "source": [
    "df2 = df.drop(['FIPS', 'Last_Update', 'Admin2', 'Combined_Key', 'Recovered', 'Active'], axis = 1)\n",
    "df2.rename(columns = {'Country_Region': 'Country/Region', 'Long_': 'Long', 'Province_State': 'Province/State'}, inplace = True)"
   ]
  },
  {
   "cell_type": "code",
   "execution_count": 45,
   "metadata": {},
   "outputs": [
    {
     "data": {
      "text/html": [
       "<div>\n",
       "<style scoped>\n",
       "    .dataframe tbody tr th:only-of-type {\n",
       "        vertical-align: middle;\n",
       "    }\n",
       "\n",
       "    .dataframe tbody tr th {\n",
       "        vertical-align: top;\n",
       "    }\n",
       "\n",
       "    .dataframe thead th {\n",
       "        text-align: right;\n",
       "    }\n",
       "</style>\n",
       "<table border=\"1\" class=\"dataframe\">\n",
       "  <thead>\n",
       "    <tr style=\"text-align: right;\">\n",
       "      <th></th>\n",
       "      <th>Province/State</th>\n",
       "      <th>Country/Region</th>\n",
       "      <th>Lat</th>\n",
       "      <th>Long</th>\n",
       "      <th>Date</th>\n",
       "      <th>Confirmed</th>\n",
       "      <th>Deaths</th>\n",
       "    </tr>\n",
       "  </thead>\n",
       "  <tbody>\n",
       "    <tr>\n",
       "      <th>0</th>\n",
       "      <td>South Carolina</td>\n",
       "      <td>US</td>\n",
       "      <td>34.223334</td>\n",
       "      <td>-82.461707</td>\n",
       "      <td>4/1/20</td>\n",
       "      <td>4</td>\n",
       "      <td>0</td>\n",
       "    </tr>\n",
       "    <tr>\n",
       "      <th>1</th>\n",
       "      <td>Louisiana</td>\n",
       "      <td>US</td>\n",
       "      <td>30.295065</td>\n",
       "      <td>-92.414197</td>\n",
       "      <td>4/1/20</td>\n",
       "      <td>47</td>\n",
       "      <td>1</td>\n",
       "    </tr>\n",
       "    <tr>\n",
       "      <th>2</th>\n",
       "      <td>Virginia</td>\n",
       "      <td>US</td>\n",
       "      <td>37.767072</td>\n",
       "      <td>-75.632346</td>\n",
       "      <td>4/1/20</td>\n",
       "      <td>7</td>\n",
       "      <td>0</td>\n",
       "    </tr>\n",
       "    <tr>\n",
       "      <th>3</th>\n",
       "      <td>Idaho</td>\n",
       "      <td>US</td>\n",
       "      <td>43.452658</td>\n",
       "      <td>-116.241552</td>\n",
       "      <td>4/1/20</td>\n",
       "      <td>195</td>\n",
       "      <td>3</td>\n",
       "    </tr>\n",
       "    <tr>\n",
       "      <th>4</th>\n",
       "      <td>Iowa</td>\n",
       "      <td>US</td>\n",
       "      <td>41.330756</td>\n",
       "      <td>-94.471059</td>\n",
       "      <td>4/1/20</td>\n",
       "      <td>1</td>\n",
       "      <td>0</td>\n",
       "    </tr>\n",
       "    <tr>\n",
       "      <th>...</th>\n",
       "      <td>...</td>\n",
       "      <td>...</td>\n",
       "      <td>...</td>\n",
       "      <td>...</td>\n",
       "      <td>...</td>\n",
       "      <td>...</td>\n",
       "      <td>...</td>\n",
       "    </tr>\n",
       "    <tr>\n",
       "      <th>2478</th>\n",
       "      <td>NaN</td>\n",
       "      <td>Venezuela</td>\n",
       "      <td>6.423800</td>\n",
       "      <td>-66.589700</td>\n",
       "      <td>4/1/20</td>\n",
       "      <td>143</td>\n",
       "      <td>3</td>\n",
       "    </tr>\n",
       "    <tr>\n",
       "      <th>2479</th>\n",
       "      <td>NaN</td>\n",
       "      <td>Vietnam</td>\n",
       "      <td>14.058324</td>\n",
       "      <td>108.277199</td>\n",
       "      <td>4/1/20</td>\n",
       "      <td>218</td>\n",
       "      <td>0</td>\n",
       "    </tr>\n",
       "    <tr>\n",
       "      <th>2480</th>\n",
       "      <td>NaN</td>\n",
       "      <td>West Bank and Gaza</td>\n",
       "      <td>31.952200</td>\n",
       "      <td>35.233200</td>\n",
       "      <td>4/1/20</td>\n",
       "      <td>134</td>\n",
       "      <td>1</td>\n",
       "    </tr>\n",
       "    <tr>\n",
       "      <th>2481</th>\n",
       "      <td>NaN</td>\n",
       "      <td>Zambia</td>\n",
       "      <td>-13.133897</td>\n",
       "      <td>27.849332</td>\n",
       "      <td>4/1/20</td>\n",
       "      <td>36</td>\n",
       "      <td>0</td>\n",
       "    </tr>\n",
       "    <tr>\n",
       "      <th>2482</th>\n",
       "      <td>NaN</td>\n",
       "      <td>Zimbabwe</td>\n",
       "      <td>-19.015438</td>\n",
       "      <td>29.154857</td>\n",
       "      <td>4/1/20</td>\n",
       "      <td>8</td>\n",
       "      <td>1</td>\n",
       "    </tr>\n",
       "  </tbody>\n",
       "</table>\n",
       "<p>2483 rows × 7 columns</p>\n",
       "</div>"
      ],
      "text/plain": [
       "      Province/State      Country/Region        Lat        Long    Date  \\\n",
       "0     South Carolina                  US  34.223334  -82.461707  4/1/20   \n",
       "1          Louisiana                  US  30.295065  -92.414197  4/1/20   \n",
       "2           Virginia                  US  37.767072  -75.632346  4/1/20   \n",
       "3              Idaho                  US  43.452658 -116.241552  4/1/20   \n",
       "4               Iowa                  US  41.330756  -94.471059  4/1/20   \n",
       "...              ...                 ...        ...         ...     ...   \n",
       "2478             NaN           Venezuela   6.423800  -66.589700  4/1/20   \n",
       "2479             NaN             Vietnam  14.058324  108.277199  4/1/20   \n",
       "2480             NaN  West Bank and Gaza  31.952200   35.233200  4/1/20   \n",
       "2481             NaN              Zambia -13.133897   27.849332  4/1/20   \n",
       "2482             NaN            Zimbabwe -19.015438   29.154857  4/1/20   \n",
       "\n",
       "      Confirmed  Deaths  \n",
       "0             4       0  \n",
       "1            47       1  \n",
       "2             7       0  \n",
       "3           195       3  \n",
       "4             1       0  \n",
       "...         ...     ...  \n",
       "2478        143       3  \n",
       "2479        218       0  \n",
       "2480        134       1  \n",
       "2481         36       0  \n",
       "2482          8       1  \n",
       "\n",
       "[2483 rows x 7 columns]"
      ]
     },
     "execution_count": 45,
     "metadata": {},
     "output_type": "execute_result"
    }
   ],
   "source": [
    "df2.insert(4, 'Date', dates)\n",
    "df2"
   ]
  },
  {
   "cell_type": "code",
   "execution_count": 46,
   "metadata": {},
   "outputs": [],
   "source": [
    "df2.replace({'Korea, South': 'South Korea'}, inplace = True)"
   ]
  },
  {
   "cell_type": "code",
   "execution_count": 47,
   "metadata": {},
   "outputs": [],
   "source": [
    "df2.to_csv('D:/BDS Docs/Year 1/Internship/Covid Data/Global COVID-19 Cases.csv', mode = 'a', header = False, index = False)"
   ]
  }
 ],
 "metadata": {
  "kernelspec": {
   "display_name": "Python 3",
   "language": "python",
   "name": "python3"
  },
  "language_info": {
   "codemirror_mode": {
    "name": "ipython",
    "version": 3
   },
   "file_extension": ".py",
   "mimetype": "text/x-python",
   "name": "python",
   "nbconvert_exporter": "python",
   "pygments_lexer": "ipython3",
   "version": "3.8.1"
  }
 },
 "nbformat": 4,
 "nbformat_minor": 4
}
