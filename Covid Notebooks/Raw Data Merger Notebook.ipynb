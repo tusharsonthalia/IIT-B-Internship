{
 "cells": [
  {
   "cell_type": "markdown",
   "metadata": {},
   "source": [
    "# 1. Function of this notebook\n",
    "\n",
    "This notebook accesses the datasets on the website of covid19india.org and creates a merged dataset, 'COVID-19 Cases'."
   ]
  },
  {
   "cell_type": "markdown",
   "metadata": {},
   "source": [
    "## 1.1. Importing the packages:"
   ]
  },
  {
   "cell_type": "code",
   "execution_count": 1,
   "metadata": {},
   "outputs": [],
   "source": [
    "import numpy as np\n",
    "import pandas as pd\n",
    "import time"
   ]
  },
  {
   "cell_type": "markdown",
   "metadata": {},
   "source": [
    "## 1.2. Importing the datasets:"
   ]
  },
  {
   "cell_type": "code",
   "execution_count": 2,
   "metadata": {},
   "outputs": [],
   "source": [
    "df1 = pd.read_csv('D:/BDS Docs/Year 1/Internship/Covid Data/raw_data1.csv') # dataset of cases upto 19th April\n",
    "df2 = pd.read_csv('D:/BDS Docs/Year 1/Internship/Covid Data/raw_data2.csv') # dataset of cases upto 26th April\n",
    "df3 = pd.read_csv('D:/BDS Docs/Year 1/Internship/Covid Data/raw_data3.csv') # dataset of cases upto 9th May\n",
    "df4 = pd.read_csv('D:/BDS Docs/Year 1/Internship/Covid Data/raw_data4.csv') # dataset of cases upto 23th May\n",
    "df5 = pd.read_csv('D:/BDS Docs/Year 1/Internship/Covid Data/raw_data5.csv') # dataset of cases from 23th April"
   ]
  },
  {
   "cell_type": "markdown",
   "metadata": {},
   "source": [
    "## 1.2.1. Information about the relevant datasets:\n",
    "\n",
    "The first two partitions of the datasets have a different format than the other three datasets. Thus, the first two datasets will be merged in a different manner and the other three would be merged in a different manner. After the formating has been done for all the datasets and we have two datasets resulting from the merger of the datasets, both the datasets would be formatted in a common form and then merged together.  "
   ]
  },
  {
   "cell_type": "markdown",
   "metadata": {},
   "source": [
    "# 2. Group I of datasets"
   ]
  },
  {
   "cell_type": "markdown",
   "metadata": {},
   "source": [
    "## 2.1. Removing unwanted rows from the datasets"
   ]
  },
  {
   "cell_type": "code",
   "execution_count": 3,
   "metadata": {},
   "outputs": [],
   "source": [
    "df1 = df1[df1['Patient Number'].notnull()]\n",
    "df2 = df2[df2['Patient Number'].notnull()]"
   ]
  },
  {
   "cell_type": "markdown",
   "metadata": {},
   "source": [
    "## 2.2. Merging Dataset 1 & 2 to create a collective dataset:"
   ]
  },
  {
   "cell_type": "code",
   "execution_count": 4,
   "metadata": {},
   "outputs": [],
   "source": [
    "df1 = pd.concat([df1, df2])"
   ]
  },
  {
   "cell_type": "markdown",
   "metadata": {},
   "source": [
    "# 3. Group II of datasets"
   ]
  },
  {
   "cell_type": "markdown",
   "metadata": {},
   "source": [
    "## 3.1. Removing unwanted rows from the datasets"
   ]
  },
  {
   "cell_type": "code",
   "execution_count": 5,
   "metadata": {},
   "outputs": [],
   "source": [
    "df3 = df3[df3['Entry_ID'].notnull()]\n",
    "df5 = df5[df5['Date Announced'].notnull()]"
   ]
  },
  {
   "cell_type": "markdown",
   "metadata": {},
   "source": [
    "## 3.2. Merging Dataset 3, 4, 5 to create a collective dataset"
   ]
  },
  {
   "cell_type": "code",
   "execution_count": 6,
   "metadata": {},
   "outputs": [],
   "source": [
    "df2 = pd.concat([df3, df4, df5])"
   ]
  },
  {
   "cell_type": "markdown",
   "metadata": {},
   "source": [
    "# 4. Checking the differences between the two datasets"
   ]
  },
  {
   "cell_type": "code",
   "execution_count": 7,
   "metadata": {},
   "outputs": [
    {
     "name": "stdout",
     "output_type": "stream",
     "text": [
      "<class 'pandas.core.frame.DataFrame'>\n",
      "Int64Index: 27891 entries, 0 to 10584\n",
      "Data columns (total 21 columns):\n",
      "Patient Number                               27891 non-null float64\n",
      "State Patient Number                         2997 non-null object\n",
      "Date Announced                               27891 non-null object\n",
      "Estimated Onset Date                         0 non-null float64\n",
      "Age Bracket                                  2346 non-null object\n",
      "Gender                                       5313 non-null object\n",
      "Detected City                                2350 non-null object\n",
      "Detected District                            21051 non-null object\n",
      "Detected State                               27890 non-null object\n",
      "State code                                   27890 non-null object\n",
      "Current Status                               27891 non-null object\n",
      "Notes                                        26555 non-null object\n",
      "Contracted from which Patient (Suspected)    1638 non-null object\n",
      "Nationality                                  2709 non-null object\n",
      "Type of transmission                         2990 non-null object\n",
      "Status Change Date                           27780 non-null object\n",
      "Source_1                                     27507 non-null object\n",
      "Source_2                                     3873 non-null object\n",
      "Source_3                                     452 non-null object\n",
      "Backup Notes                                 361 non-null object\n",
      "Num cases                                    27891 non-null int64\n",
      "dtypes: float64(2), int64(1), object(18)\n",
      "memory usage: 4.7+ MB\n"
     ]
    }
   ],
   "source": [
    "df1.info()"
   ]
  },
  {
   "cell_type": "code",
   "execution_count": 8,
   "metadata": {
    "scrolled": false
   },
   "outputs": [
    {
     "name": "stdout",
     "output_type": "stream",
     "text": [
      "<class 'pandas.core.frame.DataFrame'>\n",
      "Int64Index: 47350 entries, 0 to 19109\n",
      "Data columns (total 20 columns):\n",
      "Entry_ID                                     47348 non-null float64\n",
      "State Patient Number                         12191 non-null object\n",
      "Date Announced                               47350 non-null object\n",
      "Age Bracket                                  27999 non-null float64\n",
      "Gender                                       27675 non-null object\n",
      "Detected City                                2711 non-null object\n",
      "Detected District                            46801 non-null object\n",
      "Detected State                               47311 non-null object\n",
      "State code                                   47311 non-null object\n",
      "Num Cases                                    47315 non-null float64\n",
      "Current Status                               47316 non-null object\n",
      "Contracted from which Patient (Suspected)    282 non-null object\n",
      "Notes                                        6351 non-null object\n",
      "Source_1                                     46552 non-null object\n",
      "Source_2                                     479 non-null object\n",
      "Source_3                                     42 non-null object\n",
      "Nationality                                  0 non-null float64\n",
      "Type of transmission                         0 non-null float64\n",
      "Status Change Date                           0 non-null float64\n",
      "Patient Number                               47277 non-null float64\n",
      "dtypes: float64(7), object(13)\n",
      "memory usage: 7.6+ MB\n"
     ]
    }
   ],
   "source": [
    "df2.info()"
   ]
  },
  {
   "cell_type": "markdown",
   "metadata": {},
   "source": [
    "## 4.1. Observation of the differences in the two datasets:\n",
    "\n",
    "- The first column in the second dataset is Entry_ID whereas in the first dataset it was Patient Number(now the last column in the second dataset).\n",
    "- The second dataset is missing a column, Estimated Onset Date.\n",
    "- The columns are in the second dataset are in different order than the first dataset.\n",
    "- The second dataset does not contain the column, 'Backup Notes', included in the first dataset."
   ]
  },
  {
   "cell_type": "markdown",
   "metadata": {},
   "source": [
    "## 4.2. Making the changes in the format of the datasets so that they could be merged"
   ]
  },
  {
   "cell_type": "markdown",
   "metadata": {},
   "source": [
    "### 4.2.1. Replacing the position of the column, Patient Number, in the the second dataset and adding the column, Entry_ID in the first dataset"
   ]
  },
  {
   "cell_type": "code",
   "execution_count": 9,
   "metadata": {},
   "outputs": [],
   "source": [
    "cols = [list(df2.columns)[-1]] + list(df2.columns)[:-1]\n",
    "df2 = df2[cols]"
   ]
  },
  {
   "cell_type": "code",
   "execution_count": 10,
   "metadata": {},
   "outputs": [],
   "source": [
    "df1.insert(1, 'Entry_ID', np.arange(len(df1)))"
   ]
  },
  {
   "cell_type": "markdown",
   "metadata": {},
   "source": [
    "### 4.2.2. Adding the column, Estimated Onset Date to the second dataset"
   ]
  },
  {
   "cell_type": "code",
   "execution_count": 11,
   "metadata": {},
   "outputs": [],
   "source": [
    "df2.insert(4, 'Estimated Onset Date', np.full(len(df2), np.nan))"
   ]
  },
  {
   "cell_type": "markdown",
   "metadata": {},
   "source": [
    "### 4.2.3. Rearranging the column positions in the second dataset"
   ]
  },
  {
   "cell_type": "code",
   "execution_count": 12,
   "metadata": {},
   "outputs": [],
   "source": [
    "cols = ['Patient Number', 'Entry_ID', 'State Patient Number', 'Date Announced', 'Estimated Onset Date', 'Age Bracket', \n",
    "        'Gender', 'Detected City', 'Detected District', 'Detected State', 'State code', 'Current Status', 'Notes',\n",
    "        'Contracted from which Patient (Suspected)', 'Nationality', 'Type of transmission', 'Status Change Date',\n",
    "        'Source_1', 'Source_2', 'Source_3', 'Num Cases']\n",
    "df2 = df2[cols]"
   ]
  },
  {
   "cell_type": "markdown",
   "metadata": {},
   "source": [
    "### 4.2.4. Adding a new column, Backup Notes to the second dataset"
   ]
  },
  {
   "cell_type": "code",
   "execution_count": 13,
   "metadata": {},
   "outputs": [],
   "source": [
    "df2.insert(20, 'Backup Notes', np.full(len(df2), np.nan))"
   ]
  },
  {
   "cell_type": "markdown",
   "metadata": {},
   "source": [
    "# 5. Merging the two datasets"
   ]
  },
  {
   "cell_type": "code",
   "execution_count": 18,
   "metadata": {},
   "outputs": [],
   "source": [
    "df = pd.concat([df1, df2], sort=True)"
   ]
  },
  {
   "cell_type": "markdown",
   "metadata": {},
   "source": [
    "## 5.1. Updating the Entry_ID column"
   ]
  },
  {
   "cell_type": "code",
   "execution_count": 15,
   "metadata": {},
   "outputs": [],
   "source": [
    "df['Entry_ID'] = np.arange(1, len(df)+1)"
   ]
  },
  {
   "cell_type": "markdown",
   "metadata": {},
   "source": [
    "# 6. Exporting the merged dataset"
   ]
  },
  {
   "cell_type": "code",
   "execution_count": 16,
   "metadata": {},
   "outputs": [],
   "source": [
    "df.to_csv('D:/BDS Docs/Year 1/Internship/Covid Data/COVID-19 Cases.csv', index=False, header=True, mode='w')"
   ]
  }
 ],
 "metadata": {
  "kernelspec": {
   "display_name": "Python 3",
   "language": "python",
   "name": "python3"
  },
  "language_info": {
   "codemirror_mode": {
    "name": "ipython",
    "version": 3
   },
   "file_extension": ".py",
   "mimetype": "text/x-python",
   "name": "python",
   "nbconvert_exporter": "python",
   "pygments_lexer": "ipython3",
   "version": "3.8.1"
  }
 },
 "nbformat": 4,
 "nbformat_minor": 4
}
